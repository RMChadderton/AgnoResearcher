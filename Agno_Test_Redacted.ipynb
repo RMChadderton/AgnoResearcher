{
 "cells": [
  {
   "cell_type": "markdown",
   "id": "1e860cc8-3bae-45dc-8422-dc5df34cd860",
   "metadata": {},
   "source": [
    "# Imports"
   ]
  },
  {
   "cell_type": "code",
   "execution_count": 3,
   "id": "ce0e1465-f0ff-4281-bd01-a00a9b2f2d76",
   "metadata": {
    "scrolled": true
   },
   "outputs": [],
   "source": [
    "#------For upcoming development--------\n",
    "\n",
    "#!pip install --upgrade agno\n",
    "#!pip install pytesseract\n",
    "#!pip install google-api-python-client google-auth-httplib2 google-auth-oauthlib\n",
    "\n",
    "\n",
    "\n",
    "#------For examples----------\n",
    "\n",
    "#!pip install duckduckgo-search\n",
    "#!pip install yfinance\n",
    "#!pip install duckduckgo_search"
   ]
  },
  {
   "cell_type": "code",
   "execution_count": 4,
   "id": "6edfbae6-af00-4db4-9c00-9910cd5ac299",
   "metadata": {},
   "outputs": [],
   "source": [
    "#Imports for actual project\n",
    "\n",
    "import os\n",
    "import re\n",
    "import gc\n",
    "import sys\n",
    "import time\n",
    "import json\n",
    "import shutil\n",
    "import base64\n",
    "import signal\n",
    "import pickle\n",
    "import inspect\n",
    "import asyncio\n",
    "import logging\n",
    "import argparse\n",
    "import datetime\n",
    "import tempfile\n",
    "import pytesseract\n",
    "\n",
    "\n",
    "from agno.agent import Agent\n",
    "from agno.team.team import Team\n",
    "from agno.models.nebius import Nebius\n",
    "\n",
    "from openai import OpenAI\n",
    "from bs4 import BeautifulSoup\n",
    "from email.mime.text import MIMEText\n",
    "from jinja2 import Environment, BaseLoader\n",
    "\n",
    "from googleapiclient.discovery import build\n",
    "from googleapiclient.errors import HttpError\n",
    "from google.auth.transport.requests import Request\n",
    "from google_auth_oauthlib.flow import InstalledAppFlow"
   ]
  },
  {
   "cell_type": "code",
   "execution_count": 5,
   "id": "76b5e5c3-1b7e-4f1e-ac3e-743d7a5bc128",
   "metadata": {},
   "outputs": [],
   "source": [
    "#For examples, not the actual project\n",
    "from agno.tools.duckduckgo import DuckDuckGoTools\n",
    "from agno.tools.yfinance import YFinanceTools\n",
    "from textwrap import dedent"
   ]
  },
  {
   "cell_type": "markdown",
   "id": "90bc98f6-7943-4129-9895-e356f90f02d5",
   "metadata": {},
   "source": [
    "# Initialize API keys & Model Categories (Classifiers vs. Readers vs. Reasoners)\n",
    "\n",
    "Nebius has good security credentials, but there is an option to run models on a larger local computer (would likely only be feasible to run under 100b-param models, and even then that's veryintensive), Ollama could work for this in shell \n",
    "\n",
    "[Note: I just found out there is Agno documentation for Ollama, so I wouldn't need a shell workaround]."
   ]
  },
  {
   "cell_type": "code",
   "execution_count": 16,
   "id": "2edd1c71-a2e4-4fb8-9e3d-1470cb765a2d",
   "metadata": {},
   "outputs": [],
   "source": [
    "#Nebius server stuff, let's me run models that are way bigger than I could reasonably run on my computer.\n",
    "nebius_api_key = \"XXXXXXXXXXXXXXXXXX\"\n",
    "classifier_llm = \"Qwen/Qwen2.5-32B-Instruct\" #This model has been tested to be best performing in this context.\n",
    "reader_llm = \"Qwen/Qwen2.5-32B-Instruct\" #This model HAS NOT been tested to be best performing in this context.\n",
    "reasoner_llm = \"Qwen/Qwen2.5-72B-Instruct\" #This model HAS NOT been tested to be best performing in this context."
   ]
  },
  {
   "cell_type": "markdown",
   "id": "52390f60-0066-4e42-ba53-3c48fb73314e",
   "metadata": {},
   "source": [
    "# Single Agent Example"
   ]
  },
  {
   "cell_type": "code",
   "execution_count": 7,
   "id": "bbdd39b9-b241-4323-94e1-521b39043ad6",
   "metadata": {
    "collapsed": true,
    "jupyter": {
     "outputs_hidden": true
    },
    "scrolled": true
   },
   "outputs": [
    {
     "data": {
      "text/html": [
       "<pre style=\"white-space:pre;overflow-x:auto;line-height:normal;font-family:Menlo,'DejaVu Sans Mono',consolas,'Courier New',monospace\"><span style=\"color: #008000; text-decoration-color: #008000\">DEBUG</span> ****** Agent ID: <span style=\"color: #ffff00; text-decoration-color: #ffff00\">075026d7-0d37-4d6e-92a3-0b506a26dd1e</span> ******                                                 \n",
       "</pre>\n"
      ],
      "text/plain": [
       "\u001b[32mDEBUG\u001b[0m ****** Agent ID: \u001b[93m075026d7-0d37-4d6e-92a3-0b506a26dd1e\u001b[0m ******                                                 \n"
      ]
     },
     "metadata": {},
     "output_type": "display_data"
    },
    {
     "data": {
      "text/html": [
       "<pre style=\"white-space:pre;overflow-x:auto;line-height:normal;font-family:Menlo,'DejaVu Sans Mono',consolas,'Courier New',monospace\"><span style=\"color: #008000; text-decoration-color: #008000\">DEBUG</span> ***** Session ID: <span style=\"color: #ffff00; text-decoration-color: #ffff00\">60b0a13f-7741-4299-8864-421c74bae4b3</span> *****                                                 \n",
       "</pre>\n"
      ],
      "text/plain": [
       "\u001b[32mDEBUG\u001b[0m ***** Session ID: \u001b[93m60b0a13f-7741-4299-8864-421c74bae4b3\u001b[0m *****                                                 \n"
      ]
     },
     "metadata": {},
     "output_type": "display_data"
    },
    {
     "data": {
      "text/html": [
       "<pre style=\"white-space:pre;overflow-x:auto;line-height:normal;font-family:Menlo,'DejaVu Sans Mono',consolas,'Courier New',monospace\"><span style=\"color: #008000; text-decoration-color: #008000\">DEBUG</span> ** Agent Run Start: <span style=\"color: #ffff00; text-decoration-color: #ffff00\">d97cb721-4c3a-4cb8-b542-f7e2293f875e</span> ***                                                 \n",
       "</pre>\n"
      ],
      "text/plain": [
       "\u001b[32mDEBUG\u001b[0m ** Agent Run Start: \u001b[93md97cb721-4c3a-4cb8-b542-f7e2293f875e\u001b[0m ***                                                 \n"
      ]
     },
     "metadata": {},
     "output_type": "display_data"
    },
    {
     "data": {
      "text/html": [
       "<pre style=\"white-space:pre;overflow-x:auto;line-height:normal;font-family:Menlo,'DejaVu Sans Mono',consolas,'Courier New',monospace\"><span style=\"color: #008000; text-decoration-color: #008000\">DEBUG</span> ------------------ Nebius Response Start -------------------                                                 \n",
       "</pre>\n"
      ],
      "text/plain": [
       "\u001b[32mDEBUG\u001b[0m ------------------ Nebius Response Start -------------------                                                 \n"
      ]
     },
     "metadata": {},
     "output_type": "display_data"
    },
    {
     "data": {
      "text/html": [
       "<pre style=\"white-space:pre;overflow-x:auto;line-height:normal;font-family:Menlo,'DejaVu Sans Mono',consolas,'Courier New',monospace\"><span style=\"color: #008000; text-decoration-color: #008000\">DEBUG</span> ------------- Model: Qwen/Qwen2.<span style=\"color: #008080; text-decoration-color: #008080; font-weight: bold\">5</span>-32B-Instruct -------------                                                 \n",
       "</pre>\n"
      ],
      "text/plain": [
       "\u001b[32mDEBUG\u001b[0m ------------- Model: Qwen/Qwen2.\u001b[1;36m5\u001b[0m-32B-Instruct -------------                                                 \n"
      ]
     },
     "metadata": {},
     "output_type": "display_data"
    },
    {
     "data": {
      "text/html": [
       "<pre style=\"white-space:pre;overflow-x:auto;line-height:normal;font-family:Menlo,'DejaVu Sans Mono',consolas,'Courier New',monospace\"><span style=\"color: #008000; text-decoration-color: #008000\">DEBUG</span> ========================== system ==========================                                                 \n",
       "</pre>\n"
      ],
      "text/plain": [
       "\u001b[32mDEBUG\u001b[0m ========================== system ==========================                                                 \n"
      ]
     },
     "metadata": {},
     "output_type": "display_data"
    },
    {
     "data": {
      "text/html": [
       "<pre style=\"white-space:pre;overflow-x:auto;line-height:normal;font-family:Menlo,'DejaVu Sans Mono',consolas,'Courier New',monospace\"><span style=\"color: #008000; text-decoration-color: #008000\">DEBUG</span> <span style=\"font-weight: bold\">&lt;</span><span style=\"color: #ff00ff; text-decoration-color: #ff00ff; font-weight: bold\">instructions</span><span style=\"color: #000000; text-decoration-color: #000000\">&gt;</span>                                                                                               \n",
       "      <span style=\"color: #000000; text-decoration-color: #000000\">You are Edgar Allen Poe, write what is requested of you.</span>                                                     \n",
       "      <span style=\"color: #000000; text-decoration-color: #000000\">&lt;</span><span style=\"color: #800080; text-decoration-color: #800080\">/</span><span style=\"color: #ff00ff; text-decoration-color: #ff00ff\">instructions</span><span style=\"color: #000000; text-decoration-color: #000000\">&gt;</span>                                                                                              \n",
       "                                                                                                                   \n",
       "      <span style=\"color: #000000; text-decoration-color: #000000\">&lt;additional_information&gt;</span>                                                                                     \n",
       "      <span style=\"color: #000000; text-decoration-color: #000000\">- Use markdown to format your answers.</span>                                                                       \n",
       "      <span style=\"color: #000000; text-decoration-color: #000000\">&lt;</span><span style=\"color: #800080; text-decoration-color: #800080\">/</span><span style=\"color: #ff00ff; text-decoration-color: #ff00ff\">additional_information</span><span style=\"font-weight: bold\">&gt;</span>                                                                                    \n",
       "</pre>\n"
      ],
      "text/plain": [
       "\u001b[32mDEBUG\u001b[0m \u001b[1m<\u001b[0m\u001b[1;95minstructions\u001b[0m\u001b[39m>\u001b[0m                                                                                               \n",
       "      \u001b[39mYou are Edgar Allen Poe, write what is requested of you.\u001b[0m                                                     \n",
       "      \u001b[39m<\u001b[0m\u001b[35m/\u001b[0m\u001b[95minstructions\u001b[0m\u001b[39m>\u001b[0m                                                                                              \n",
       "                                                                                                                   \n",
       "      \u001b[39m<additional_information>\u001b[0m                                                                                     \n",
       "      \u001b[39m- Use markdown to format your answers.\u001b[0m                                                                       \n",
       "      \u001b[39m<\u001b[0m\u001b[35m/\u001b[0m\u001b[95madditional_information\u001b[0m\u001b[1m>\u001b[0m                                                                                    \n"
      ]
     },
     "metadata": {},
     "output_type": "display_data"
    },
    {
     "data": {
      "text/html": [
       "<pre style=\"white-space:pre;overflow-x:auto;line-height:normal;font-family:Menlo,'DejaVu Sans Mono',consolas,'Courier New',monospace\"><span style=\"color: #008000; text-decoration-color: #008000\">DEBUG</span> =========================== user ===========================                                                 \n",
       "</pre>\n"
      ],
      "text/plain": [
       "\u001b[32mDEBUG\u001b[0m =========================== user ===========================                                                 \n"
      ]
     },
     "metadata": {},
     "output_type": "display_data"
    },
    {
     "data": {
      "text/html": [
       "<pre style=\"white-space:pre;overflow-x:auto;line-height:normal;font-family:Menlo,'DejaVu Sans Mono',consolas,'Courier New',monospace\"><span style=\"color: #008000; text-decoration-color: #008000\">DEBUG</span> write a two sentence horror story                                                                            \n",
       "</pre>\n"
      ],
      "text/plain": [
       "\u001b[32mDEBUG\u001b[0m write a two sentence horror story                                                                            \n"
      ]
     },
     "metadata": {},
     "output_type": "display_data"
    },
    {
     "data": {
      "application/vnd.jupyter.widget-view+json": {
       "model_id": "7c92684d2dfa4b3abe8d39e2e39b13ad",
       "version_major": 2,
       "version_minor": 0
      },
      "text/plain": [
       "Output()"
      ]
     },
     "metadata": {},
     "output_type": "display_data"
    },
    {
     "data": {
      "text/html": [
       "<pre style=\"white-space:pre;overflow-x:auto;line-height:normal;font-family:Menlo,'DejaVu Sans Mono',consolas,'Courier New',monospace\"><span style=\"color: #008000; text-decoration-color: #008000\">DEBUG</span> ======================== assistant =========================                                                 \n",
       "</pre>\n"
      ],
      "text/plain": [
       "\u001b[32mDEBUG\u001b[0m ======================== assistant =========================                                                 \n"
      ]
     },
     "metadata": {},
     "output_type": "display_data"
    },
    {
     "data": {
      "text/html": [
       "<pre style=\"white-space:pre;overflow-x:auto;line-height:normal;font-family:Menlo,'DejaVu Sans Mono',consolas,'Courier New',monospace\"><span style=\"color: #008000; text-decoration-color: #008000\">DEBUG</span> The ancient mirror hung in the dimly lit room, its surface fogged by the whispers of those who dared to gaze \n",
       "      into it. As I stepped closer, my reflection faded, revealing instead the hollow eyes of a spectral figure    \n",
       "      that beckoned me into the abyss.                                                                             \n",
       "</pre>\n"
      ],
      "text/plain": [
       "\u001b[32mDEBUG\u001b[0m The ancient mirror hung in the dimly lit room, its surface fogged by the whispers of those who dared to gaze \n",
       "      into it. As I stepped closer, my reflection faded, revealing instead the hollow eyes of a spectral figure    \n",
       "      that beckoned me into the abyss.                                                                             \n"
      ]
     },
     "metadata": {},
     "output_type": "display_data"
    },
    {
     "data": {
      "text/html": [
       "<pre style=\"white-space:pre;overflow-x:auto;line-height:normal;font-family:Menlo,'DejaVu Sans Mono',consolas,'Courier New',monospace\"><span style=\"color: #008000; text-decoration-color: #008000\">DEBUG</span> ************************  METRICS  *************************                                                 \n",
       "</pre>\n"
      ],
      "text/plain": [
       "\u001b[32mDEBUG\u001b[0m ************************  METRICS  *************************                                                 \n"
      ]
     },
     "metadata": {},
     "output_type": "display_data"
    },
    {
     "data": {
      "text/html": [
       "<pre style=\"white-space:pre;overflow-x:auto;line-height:normal;font-family:Menlo,'DejaVu Sans Mono',consolas,'Courier New',monospace\"><span style=\"color: #008000; text-decoration-color: #008000\">DEBUG</span> * Tokens:                      <span style=\"color: #808000; text-decoration-color: #808000\">input</span>=<span style=\"color: #008080; text-decoration-color: #008080; font-weight: bold\">54</span>, <span style=\"color: #808000; text-decoration-color: #808000\">output</span>=<span style=\"color: #008080; text-decoration-color: #008080; font-weight: bold\">54</span>, <span style=\"color: #808000; text-decoration-color: #808000\">total</span>=<span style=\"color: #008080; text-decoration-color: #008080; font-weight: bold\">108</span>                                                \n",
       "</pre>\n"
      ],
      "text/plain": [
       "\u001b[32mDEBUG\u001b[0m * Tokens:                      \u001b[33minput\u001b[0m=\u001b[1;36m54\u001b[0m, \u001b[33moutput\u001b[0m=\u001b[1;36m54\u001b[0m, \u001b[33mtotal\u001b[0m=\u001b[1;36m108\u001b[0m                                                \n"
      ]
     },
     "metadata": {},
     "output_type": "display_data"
    },
    {
     "data": {
      "text/html": [
       "<pre style=\"white-space:pre;overflow-x:auto;line-height:normal;font-family:Menlo,'DejaVu Sans Mono',consolas,'Courier New',monospace\"><span style=\"color: #008000; text-decoration-color: #008000\">DEBUG</span> * Time:                        <span style=\"color: #008080; text-decoration-color: #008080; font-weight: bold\">4.</span>7516s                                                                       \n",
       "</pre>\n"
      ],
      "text/plain": [
       "\u001b[32mDEBUG\u001b[0m * Time:                        \u001b[1;36m4.\u001b[0m7516s                                                                       \n"
      ]
     },
     "metadata": {},
     "output_type": "display_data"
    },
    {
     "data": {
      "text/html": [
       "<pre style=\"white-space:pre;overflow-x:auto;line-height:normal;font-family:Menlo,'DejaVu Sans Mono',consolas,'Courier New',monospace\"><span style=\"color: #008000; text-decoration-color: #008000\">DEBUG</span> * Tokens per second:           <span style=\"color: #008080; text-decoration-color: #008080; font-weight: bold\">11.3647</span> tokens/s                                                              \n",
       "</pre>\n"
      ],
      "text/plain": [
       "\u001b[32mDEBUG\u001b[0m * Tokens per second:           \u001b[1;36m11.3647\u001b[0m tokens/s                                                              \n"
      ]
     },
     "metadata": {},
     "output_type": "display_data"
    },
    {
     "data": {
      "text/html": [
       "<pre style=\"white-space:pre;overflow-x:auto;line-height:normal;font-family:Menlo,'DejaVu Sans Mono',consolas,'Courier New',monospace\"><span style=\"color: #008000; text-decoration-color: #008000\">DEBUG</span> ************************  METRICS  *************************                                                 \n",
       "</pre>\n"
      ],
      "text/plain": [
       "\u001b[32mDEBUG\u001b[0m ************************  METRICS  *************************                                                 \n"
      ]
     },
     "metadata": {},
     "output_type": "display_data"
    },
    {
     "data": {
      "text/html": [
       "<pre style=\"white-space:pre;overflow-x:auto;line-height:normal;font-family:Menlo,'DejaVu Sans Mono',consolas,'Courier New',monospace\"><span style=\"color: #008000; text-decoration-color: #008000\">DEBUG</span> ------------------- Nebius Response End --------------------                                                 \n",
       "</pre>\n"
      ],
      "text/plain": [
       "\u001b[32mDEBUG\u001b[0m ------------------- Nebius Response End --------------------                                                 \n"
      ]
     },
     "metadata": {},
     "output_type": "display_data"
    },
    {
     "data": {
      "text/html": [
       "<pre style=\"white-space:pre;overflow-x:auto;line-height:normal;font-family:Menlo,'DejaVu Sans Mono',consolas,'Courier New',monospace\"><span style=\"color: #008000; text-decoration-color: #008000\">DEBUG</span> Added RunResponse to Memory                                                                                  \n",
       "</pre>\n"
      ],
      "text/plain": [
       "\u001b[32mDEBUG\u001b[0m Added RunResponse to Memory                                                                                  \n"
      ]
     },
     "metadata": {},
     "output_type": "display_data"
    },
    {
     "data": {
      "text/html": [
       "<pre style=\"white-space:pre;overflow-x:auto;line-height:normal;font-family:Menlo,'DejaVu Sans Mono',consolas,'Courier New',monospace\"><span style=\"color: #008000; text-decoration-color: #008000\">DEBUG</span> *** Agent Run End: <span style=\"color: #ffff00; text-decoration-color: #ffff00\">d97cb721-4c3a-4cb8-b542-f7e2293f875e</span> ****                                                 \n",
       "</pre>\n"
      ],
      "text/plain": [
       "\u001b[32mDEBUG\u001b[0m *** Agent Run End: \u001b[93md97cb721-4c3a-4cb8-b542-f7e2293f875e\u001b[0m ****                                                 \n"
      ]
     },
     "metadata": {},
     "output_type": "display_data"
    },
    {
     "data": {
      "text/html": [
       "<pre style=\"white-space:pre;overflow-x:auto;line-height:normal;font-family:Menlo,'DejaVu Sans Mono',consolas,'Courier New',monospace\"></pre>\n"
      ],
      "text/plain": []
     },
     "metadata": {},
     "output_type": "display_data"
    },
    {
     "name": "stdout",
     "output_type": "stream",
     "text": [
      "None\n"
     ]
    }
   ],
   "source": [
    "email_processor = Agent(\n",
    "    model = Nebius(api_key = nebius_api_key, id = classifier_llm),\n",
    "    instructions=\"You are Edgar Allen Poe, write what is requested of you.\",\n",
    "    show_tool_calls=True,\n",
    "    markdown=True,\n",
    "    debug_mode=True,\n",
    ")\n",
    "\n",
    "# Print the response in the terminal\n",
    "answer = email_processor.print_response(\"write a two sentence horror story\")\n",
    "print(str(answer))"
   ]
  },
  {
   "cell_type": "markdown",
   "id": "7daefc6f-1c14-4622-8825-44a9b2e63081",
   "metadata": {},
   "source": [
    "# Team Example"
   ]
  },
  {
   "cell_type": "code",
   "execution_count": 22,
   "id": "ecae26e0-aff2-440c-8aa7-15b481855afe",
   "metadata": {},
   "outputs": [
    {
     "data": {
      "application/vnd.jupyter.widget-view+json": {
       "model_id": "55db314a2d804b9ea26d1656f62ed371",
       "version_major": 2,
       "version_minor": 0
      },
      "text/plain": [
       "Output()"
      ]
     },
     "metadata": {},
     "output_type": "display_data"
    },
    {
     "data": {
      "text/html": [
       "<pre style=\"white-space:pre;overflow-x:auto;line-height:normal;font-family:Menlo,'DejaVu Sans Mono',consolas,'Courier New',monospace\"><span style=\"color: #808000; text-decoration-color: #808000\">WARNING </span> Could not run function <span style=\"color: #800080; text-decoration-color: #800080; font-weight: bold\">set_shared_context</span><span style=\"font-weight: bold\">(</span><span style=\"color: #808000; text-decoration-color: #808000\">state</span>=<span style=\"color: #800080; text-decoration-color: #800080\">MCD</span>, <span style=\"color: #808000; text-decoration-color: #808000\">report_date</span>=<span style=\"color: #008080; text-decoration-color: #008080; font-weight: bold\">2025</span>-<span style=\"color: #008080; text-decoration-color: #008080; font-weight: bold\">07</span>-<span style=\"color: #008080; text-decoration-color: #008080; font-weight: bold\">18</span><span style=\"font-weight: bold\">)</span>                              \n",
       "</pre>\n"
      ],
      "text/plain": [
       "\u001b[33mWARNING \u001b[0m Could not run function \u001b[1;35mset_shared_context\u001b[0m\u001b[1m(\u001b[0m\u001b[33mstate\u001b[0m=\u001b[35mMCD\u001b[0m, \u001b[33mreport_date\u001b[0m=\u001b[1;36m2025\u001b[0m-\u001b[1;36m07\u001b[0m-\u001b[1;36m18\u001b[0m\u001b[1m)\u001b[0m                              \n"
      ]
     },
     "metadata": {},
     "output_type": "display_data"
    },
    {
     "data": {
      "text/html": [
       "<pre style=\"white-space:pre;overflow-x:auto;line-height:normal;font-family:Menlo,'DejaVu Sans Mono',consolas,'Courier New',monospace\"><span style=\"color: #800000; text-decoration-color: #800000; font-weight: bold\">ERROR   </span> <span style=\"color: #008080; text-decoration-color: #008080; font-weight: bold\">1</span> validation error for Team.get_set_shared_context_function.<span style=\"font-weight: bold\">&lt;</span><span style=\"color: #ff00ff; text-decoration-color: #ff00ff; font-weight: bold\">locals</span><span style=\"color: #000000; text-decoration-color: #000000\">&gt;.set_shared_context</span>                   \n",
       "         <span style=\"color: #000000; text-decoration-color: #000000\">report_date</span>                                                                                               \n",
       "         <span style=\"color: #000000; text-decoration-color: #000000\">  Unexpected keyword argument </span><span style=\"color: #000000; text-decoration-color: #000000; font-weight: bold\">[</span><span style=\"color: #808000; text-decoration-color: #808000\">type</span><span style=\"color: #000000; text-decoration-color: #000000\">=</span><span style=\"color: #800080; text-decoration-color: #800080\">unexpected_keyword_argument</span><span style=\"color: #000000; text-decoration-color: #000000\">, </span><span style=\"color: #808000; text-decoration-color: #808000\">input_value</span><span style=\"color: #000000; text-decoration-color: #000000\">=</span><span style=\"color: #008000; text-decoration-color: #008000\">'2025-07-18'</span><span style=\"color: #000000; text-decoration-color: #000000\">, </span><span style=\"color: #808000; text-decoration-color: #808000\">input_type</span><span style=\"color: #000000; text-decoration-color: #000000\">=</span><span style=\"color: #800080; text-decoration-color: #800080\">str</span><span style=\"color: #000000; text-decoration-color: #000000; font-weight: bold\">]</span>\n",
       "         <span style=\"color: #000000; text-decoration-color: #000000\">    For further information visit </span><span style=\"color: #0000ff; text-decoration-color: #0000ff; text-decoration: underline\">https://errors.pydantic.dev/2.10/v/unexpected_keyword_argument</span>          \n",
       "         <span style=\"color: #000000; text-decoration-color: #000000\">Traceback </span><span style=\"color: #000000; text-decoration-color: #000000; font-weight: bold\">(</span><span style=\"color: #000000; text-decoration-color: #000000\">most recent call last</span><span style=\"color: #000000; text-decoration-color: #000000; font-weight: bold\">)</span><span style=\"color: #000000; text-decoration-color: #000000\">:</span>                                                                        \n",
       "         <span style=\"color: #000000; text-decoration-color: #000000\">  File </span><span style=\"color: #008000; text-decoration-color: #008000\">\"/opt/anaconda3/lib/python3.13/site-packages/agno/tools/function.py\"</span><span style=\"color: #000000; text-decoration-color: #000000\">, line </span><span style=\"color: #008080; text-decoration-color: #008080; font-weight: bold\">635</span><span style=\"color: #000000; text-decoration-color: #000000\">, in execute</span>         \n",
       "         <span style=\"color: #000000; text-decoration-color: #000000\">    result = </span><span style=\"color: #800080; text-decoration-color: #800080; font-weight: bold\">self.function.entrypoint</span><span style=\"color: #000000; text-decoration-color: #000000; font-weight: bold\">(</span><span style=\"color: #000000; text-decoration-color: #000000\">**arguments</span><span style=\"color: #000000; text-decoration-color: #000000; font-weight: bold\">)</span>                                                        \n",
       "         <span style=\"color: #000000; text-decoration-color: #000000\">  File </span><span style=\"color: #008000; text-decoration-color: #008000\">\"/opt/anaconda3/lib/python3.13/site-packages/pydantic/_internal/_validate_call.py\"</span><span style=\"color: #000000; text-decoration-color: #000000\">, line </span><span style=\"color: #008080; text-decoration-color: #008080; font-weight: bold\">38</span><span style=\"color: #000000; text-decoration-color: #000000\">, in </span>   \n",
       "         <span style=\"color: #000000; text-decoration-color: #000000\">wrapper_function</span>                                                                                          \n",
       "         <span style=\"color: #000000; text-decoration-color: #000000\">    return </span><span style=\"color: #800080; text-decoration-color: #800080; font-weight: bold\">wrapper</span><span style=\"color: #000000; text-decoration-color: #000000; font-weight: bold\">(</span><span style=\"color: #000000; text-decoration-color: #000000\">*args, **kwargs</span><span style=\"color: #000000; text-decoration-color: #000000; font-weight: bold\">)</span>                                                                       \n",
       "         <span style=\"color: #000000; text-decoration-color: #000000\">  File </span><span style=\"color: #008000; text-decoration-color: #008000\">\"/opt/anaconda3/lib/python3.13/site-packages/pydantic/_internal/_validate_call.py\"</span><span style=\"color: #000000; text-decoration-color: #000000\">, line </span><span style=\"color: #008080; text-decoration-color: #008080; font-weight: bold\">111</span><span style=\"color: #000000; text-decoration-color: #000000\">, in </span>  \n",
       "         <span style=\"color: #000000; text-decoration-color: #000000\">__call__</span>                                                                                                  \n",
       "         <span style=\"color: #000000; text-decoration-color: #000000\">    res = </span><span style=\"color: #800080; text-decoration-color: #800080; font-weight: bold\">self.__pydantic_validator__.validate_python</span><span style=\"color: #000000; text-decoration-color: #000000; font-weight: bold\">(</span><span style=\"color: #800080; text-decoration-color: #800080; font-weight: bold\">pydantic_core.ArgsKwargs</span><span style=\"color: #000000; text-decoration-color: #000000; font-weight: bold\">(</span><span style=\"color: #000000; text-decoration-color: #000000\">args, kwargs</span><span style=\"color: #000000; text-decoration-color: #000000; font-weight: bold\">))</span>             \n",
       "         <span style=\"color: #000000; text-decoration-color: #000000\">pydantic_core._pydantic_core.ValidationError: </span><span style=\"color: #008080; text-decoration-color: #008080; font-weight: bold\">1</span><span style=\"color: #000000; text-decoration-color: #000000\"> validation error for </span>                                     \n",
       "         <span style=\"color: #000000; text-decoration-color: #000000\">Team.get_set_shared_context_function.&lt;locals</span><span style=\"font-weight: bold\">&gt;</span>.set_shared_context                                          \n",
       "         report_date                                                                                               \n",
       "           Unexpected keyword argument <span style=\"font-weight: bold\">[</span><span style=\"color: #808000; text-decoration-color: #808000\">type</span>=<span style=\"color: #800080; text-decoration-color: #800080\">unexpected_keyword_argument</span>, <span style=\"color: #808000; text-decoration-color: #808000\">input_value</span>=<span style=\"color: #008000; text-decoration-color: #008000\">'2025-07-18'</span>, <span style=\"color: #808000; text-decoration-color: #808000\">input_type</span>=<span style=\"color: #800080; text-decoration-color: #800080\">str</span><span style=\"font-weight: bold\">]</span>\n",
       "             For further information visit <span style=\"color: #0000ff; text-decoration-color: #0000ff; text-decoration: underline\">https://errors.pydantic.dev/2.10/v/unexpected_keyword_argument</span>          \n",
       "</pre>\n"
      ],
      "text/plain": [
       "\u001b[1;31mERROR   \u001b[0m \u001b[1;36m1\u001b[0m validation error for Team.get_set_shared_context_function.\u001b[1m<\u001b[0m\u001b[1;95mlocals\u001b[0m\u001b[39m>.set_shared_context\u001b[0m                   \n",
       "         \u001b[39mreport_date\u001b[0m                                                                                               \n",
       "         \u001b[39m  Unexpected keyword argument \u001b[0m\u001b[1;39m[\u001b[0m\u001b[33mtype\u001b[0m\u001b[39m=\u001b[0m\u001b[35munexpected_keyword_argument\u001b[0m\u001b[39m, \u001b[0m\u001b[33minput_value\u001b[0m\u001b[39m=\u001b[0m\u001b[32m'2025-07-18'\u001b[0m\u001b[39m, \u001b[0m\u001b[33minput_type\u001b[0m\u001b[39m=\u001b[0m\u001b[35mstr\u001b[0m\u001b[1;39m]\u001b[0m\n",
       "         \u001b[39m    For further information visit \u001b[0m\u001b[4;94mhttps://errors.pydantic.dev/2.10/v/unexpected_keyword_argument\u001b[0m          \n",
       "         \u001b[39mTraceback \u001b[0m\u001b[1;39m(\u001b[0m\u001b[39mmost recent call last\u001b[0m\u001b[1;39m)\u001b[0m\u001b[39m:\u001b[0m                                                                        \n",
       "         \u001b[39m  File \u001b[0m\u001b[32m\"/opt/anaconda3/lib/python3.13/site-packages/agno/tools/function.py\"\u001b[0m\u001b[39m, line \u001b[0m\u001b[1;36m635\u001b[0m\u001b[39m, in execute\u001b[0m         \n",
       "         \u001b[39m    result = \u001b[0m\u001b[1;35mself.function.entrypoint\u001b[0m\u001b[1;39m(\u001b[0m\u001b[39m**arguments\u001b[0m\u001b[1;39m)\u001b[0m                                                        \n",
       "         \u001b[39m  File \u001b[0m\u001b[32m\"/opt/anaconda3/lib/python3.13/site-packages/pydantic/_internal/_validate_call.py\"\u001b[0m\u001b[39m, line \u001b[0m\u001b[1;36m38\u001b[0m\u001b[39m, in \u001b[0m   \n",
       "         \u001b[39mwrapper_function\u001b[0m                                                                                          \n",
       "         \u001b[39m    return \u001b[0m\u001b[1;35mwrapper\u001b[0m\u001b[1;39m(\u001b[0m\u001b[39m*args, **kwargs\u001b[0m\u001b[1;39m)\u001b[0m                                                                       \n",
       "         \u001b[39m  File \u001b[0m\u001b[32m\"/opt/anaconda3/lib/python3.13/site-packages/pydantic/_internal/_validate_call.py\"\u001b[0m\u001b[39m, line \u001b[0m\u001b[1;36m111\u001b[0m\u001b[39m, in \u001b[0m  \n",
       "         \u001b[39m__call__\u001b[0m                                                                                                  \n",
       "         \u001b[39m    res = \u001b[0m\u001b[1;35mself.__pydantic_validator__.validate_python\u001b[0m\u001b[1;39m(\u001b[0m\u001b[1;35mpydantic_core.ArgsKwargs\u001b[0m\u001b[1;39m(\u001b[0m\u001b[39margs, kwargs\u001b[0m\u001b[1;39m)\u001b[0m\u001b[1;39m)\u001b[0m             \n",
       "         \u001b[39mpydantic_core._pydantic_core.ValidationError: \u001b[0m\u001b[1;36m1\u001b[0m\u001b[39m validation error for \u001b[0m                                     \n",
       "         \u001b[39mTeam.get_set_shared_context_function.<locals\u001b[0m\u001b[1m>\u001b[0m.set_shared_context                                          \n",
       "         report_date                                                                                               \n",
       "           Unexpected keyword argument \u001b[1m[\u001b[0m\u001b[33mtype\u001b[0m=\u001b[35munexpected_keyword_argument\u001b[0m, \u001b[33minput_value\u001b[0m=\u001b[32m'2025-07-18'\u001b[0m, \u001b[33minput_type\u001b[0m=\u001b[35mstr\u001b[0m\u001b[1m]\u001b[0m\n",
       "             For further information visit \u001b[4;94mhttps://errors.pydantic.dev/2.10/v/unexpected_keyword_argument\u001b[0m          \n"
      ]
     },
     "metadata": {},
     "output_type": "display_data"
    },
    {
     "data": {
      "text/html": [
       "<pre style=\"white-space:pre;overflow-x:auto;line-height:normal;font-family:Menlo,'DejaVu Sans Mono',consolas,'Courier New',monospace\">/opt/anaconda3/lib/python3.13/site-packages/agno/tools/duckduckgo.py:90: RuntimeWarning: This package \n",
       "(`duckduckgo_search`) has been renamed to `ddgs`! Use `pip install ddgs` instead.\n",
       "  ddgs = DDGS(\n",
       "</pre>\n"
      ],
      "text/plain": [
       "/opt/anaconda3/lib/python3.13/site-packages/agno/tools/duckduckgo.py:90: RuntimeWarning: This package \n",
       "(`duckduckgo_search`) has been renamed to `ddgs`! Use `pip install ddgs` instead.\n",
       "  ddgs = DDGS(\n"
      ]
     },
     "metadata": {},
     "output_type": "display_data"
    },
    {
     "data": {
      "text/html": [
       "<pre style=\"white-space:pre;overflow-x:auto;line-height:normal;font-family:Menlo,'DejaVu Sans Mono',consolas,'Courier New',monospace\">/opt/anaconda3/lib/python3.13/site-packages/agno/tools/duckduckgo.py:71: RuntimeWarning: This package \n",
       "(`duckduckgo_search`) has been renamed to `ddgs`! Use `pip install ddgs` instead.\n",
       "  ddgs = DDGS(\n",
       "</pre>\n"
      ],
      "text/plain": [
       "/opt/anaconda3/lib/python3.13/site-packages/agno/tools/duckduckgo.py:71: RuntimeWarning: This package \n",
       "(`duckduckgo_search`) has been renamed to `ddgs`! Use `pip install ddgs` instead.\n",
       "  ddgs = DDGS(\n"
      ]
     },
     "metadata": {},
     "output_type": "display_data"
    },
    {
     "data": {
      "text/html": [
       "<pre style=\"white-space:pre;overflow-x:auto;line-height:normal;font-family:Menlo,'DejaVu Sans Mono',consolas,'Courier New',monospace\">/opt/anaconda3/lib/python3.13/site-packages/agno/tools/duckduckgo.py:71: RuntimeWarning: This package \n",
       "(`duckduckgo_search`) has been renamed to `ddgs`! Use `pip install ddgs` instead.\n",
       "  ddgs = DDGS(\n",
       "</pre>\n"
      ],
      "text/plain": [
       "/opt/anaconda3/lib/python3.13/site-packages/agno/tools/duckduckgo.py:71: RuntimeWarning: This package \n",
       "(`duckduckgo_search`) has been renamed to `ddgs`! Use `pip install ddgs` instead.\n",
       "  ddgs = DDGS(\n"
      ]
     },
     "metadata": {},
     "output_type": "display_data"
    },
    {
     "data": {
      "text/html": [
       "<pre style=\"white-space:pre;overflow-x:auto;line-height:normal;font-family:Menlo,'DejaVu Sans Mono',consolas,'Courier New',monospace\"></pre>\n"
      ],
      "text/plain": []
     },
     "metadata": {},
     "output_type": "display_data"
    }
   ],
   "source": [
    "web_agent = Agent(\n",
    "    name=\"Web Agent\",\n",
    "    role=\"Search the web for information\",\n",
    "    model=Nebius(api_key=nebius_api_key, id=classifier_llm),\n",
    "    tools=[DuckDuckGoTools()],\n",
    "    instructions=dedent(\"\"\"\\\n",
    "        You are an experienced web researcher and news analyst! 🔍\n",
    "        Follow these steps when searching for information:\n",
    "        1. Start with the most recent and relevant sources\n",
    "        2. Cross-reference information from multiple sources\n",
    "        3. Prioritize reputable news outlets and official sources\n",
    "        4. Always cite your sources with links\n",
    "        5. Focus on market-moving news and significant developments\n",
    "        Your style guide:\n",
    "        - Present information in a clear, journalistic style\n",
    "        - Use bullet points for key takeaways\n",
    "        - Include relevant quotes when available\n",
    "        - Specify the date and time for each piece of news\n",
    "        - Highlight market sentiment and industry trends\n",
    "        - End with a brief analysis of the overall narrative\n",
    "        - Pay special attention to regulatory news, earnings reports, and strategic announcements\\\n",
    "    \"\"\"),\n",
    "    show_tool_calls=True,\n",
    "    markdown=True,\n",
    "    add_name_to_instructions=True,\n",
    ")\n",
    "\n",
    "finance_agent = Agent(\n",
    "    name=\"Finance Agent\",\n",
    "    role=\"Get financial data\",\n",
    "    model=Nebius(api_key=nebius_api_key, id=classifier_llm),\n",
    "    tools=[YFinanceTools(stock_price=True, analyst_recommendations=True, company_info=True)],\n",
    "    instructions=dedent(\"\"\"\\\n",
    "        You are a skilled financial analyst with expertise in market data! 📊\n",
    "        Follow these steps when analyzing financial data:\n",
    "        1. Start with the latest stock price, trading volume, and daily range\n",
    "        2. Present detailed analyst recommendations and consensus target prices\n",
    "        3. Include key metrics: P/E ratio, market cap, 52-week range\n",
    "        4. Analyze trading patterns and volume trends\n",
    "        5. Compare performance against relevant sector indices\n",
    "        Your style guide:\n",
    "        - Use tables for structured data presentation\n",
    "        - Include clear headers for each data section\n",
    "        - Add brief explanations for technical terms\n",
    "        - Stay professional\n",
    "        - Use bullet points for quick insights\n",
    "        - Compare current values with historical averages\n",
    "        - End with a data-driven financial outlook\\\n",
    "    \"\"\"),\n",
    "    show_tool_calls=True,\n",
    "    markdown=True,\n",
    "    add_name_to_instructions=True,  # Added this based on the example\n",
    ")\n",
    "\n",
    "agent_team = Team(\n",
    "    name=\"Investment Report Team\",\n",
    "    mode=\"collaborate\", #Gives semant\n",
    "    members=[web_agent, finance_agent],\n",
    "    model=Nebius(api_key=nebius_api_key, id=reasoner_llm),\n",
    "    instructions=dedent(\"\"\"\\\n",
    "        You are the lead editor of a prestigious financial news desk! 📰\n",
    "        Your role:\n",
    "        1. Coordinate between the web researcher and financial analyst\n",
    "        2. Combine their findings into a compelling narrative\n",
    "        3. Ensure all information is properly sourced and verified\n",
    "        4. Present a balanced view of both news and data\n",
    "        5. Highlight key risks and opportunities\n",
    "        Your style guide:\n",
    "        - Start with an attention-grabbing headline\n",
    "        - Begin with a powerful executive summary\n",
    "        - Present financial data first, followed by news context\n",
    "        - Use clear section breaks between different types of information\n",
    "        - Include relevant charts or tables when available\n",
    "        - Add 'Market Sentiment' section with current mood\n",
    "        - Include a 'Key Takeaways' section at the end\n",
    "        - End with 'Risk Factors' when appropriate\n",
    "        - Sign off with 'Market Watch Team' and the current date\\\n",
    "    \"\"\"),\n",
    "    success_criteria=\"The team has compiled a comprehensive investment report on the requested stock ticker.\",  \n",
    "    enable_agentic_context=True, \n",
    "    add_datetime_to_instructions=True,\n",
    "    show_tool_calls=True,\n",
    "    markdown=True,\n",
    "    show_members_responses=True,  \n",
    ")\n",
    "\n",
    "# Just call print_response directly - no asyncio needed\n",
    "agent_team.print_response(\n",
    "    \"Use the team to write a report on McDonalds Corp (MCD)\",\n",
    "    stream=True,\n",
    "    stream_intermediate_steps=True\n",
    ")\n"
   ]
  },
  {
   "cell_type": "code",
   "execution_count": null,
   "id": "098cc8b9-7476-4616-a116-4596418d0d65",
   "metadata": {},
   "outputs": [],
   "source": []
  }
 ],
 "metadata": {
  "kernelspec": {
   "display_name": "Python [conda env:base] *",
   "language": "python",
   "name": "conda-base-py"
  },
  "language_info": {
   "codemirror_mode": {
    "name": "ipython",
    "version": 3
   },
   "file_extension": ".py",
   "mimetype": "text/x-python",
   "name": "python",
   "nbconvert_exporter": "python",
   "pygments_lexer": "ipython3",
   "version": "3.13.5"
  }
 },
 "nbformat": 4,
 "nbformat_minor": 5
}
